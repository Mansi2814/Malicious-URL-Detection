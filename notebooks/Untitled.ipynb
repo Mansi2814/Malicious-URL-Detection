{
 "cells": [
  {
   "cell_type": "code",
   "execution_count": 1,
   "id": "77592643",
   "metadata": {},
   "outputs": [],
   "source": [
    "import numpy as np \n",
    "import pandas as pd \n",
    "\n",
    "import matplotlib.pyplot as plt\n",
    "import seaborn as sns\n",
    "\n",
    "import os"
   ]
  },
  {
   "cell_type": "code",
   "execution_count": 2,
   "id": "4e235a9a",
   "metadata": {
    "scrolled": true
   },
   "outputs": [
    {
     "name": "stdout",
     "output_type": "stream",
     "text": [
      "['mal_url_dataset.csv', 'urldata.csv']\n"
     ]
    }
   ],
   "source": [
    "print(os.listdir(\"../data\"))"
   ]
  },
  {
   "cell_type": "code",
   "execution_count": 3,
   "id": "e43bb46a",
   "metadata": {},
   "outputs": [],
   "source": [
    "urldata = pd.read_csv(\"../data/mal_url_dataset.csv\")"
   ]
  },
  {
   "cell_type": "code",
   "execution_count": 4,
   "id": "ba169125",
   "metadata": {},
   "outputs": [
    {
     "data": {
      "text/html": [
       "<div>\n",
       "<style scoped>\n",
       "    .dataframe tbody tr th:only-of-type {\n",
       "        vertical-align: middle;\n",
       "    }\n",
       "\n",
       "    .dataframe tbody tr th {\n",
       "        vertical-align: top;\n",
       "    }\n",
       "\n",
       "    .dataframe thead th {\n",
       "        text-align: right;\n",
       "    }\n",
       "</style>\n",
       "<table border=\"1\" class=\"dataframe\">\n",
       "  <thead>\n",
       "    <tr style=\"text-align: right;\">\n",
       "      <th></th>\n",
       "      <th>Unnamed: 0</th>\n",
       "      <th>url</th>\n",
       "      <th>label</th>\n",
       "      <th>result</th>\n",
       "    </tr>\n",
       "  </thead>\n",
       "  <tbody>\n",
       "    <tr>\n",
       "      <th>0</th>\n",
       "      <td>0</td>\n",
       "      <td>http://1337x.to/torrent/1048648/American-Snipe...</td>\n",
       "      <td>benign</td>\n",
       "      <td>0</td>\n",
       "    </tr>\n",
       "    <tr>\n",
       "      <th>1</th>\n",
       "      <td>1</td>\n",
       "      <td>http://abc.go.com/shows/the-muppets/video/new-...</td>\n",
       "      <td>benign</td>\n",
       "      <td>0</td>\n",
       "    </tr>\n",
       "    <tr>\n",
       "      <th>2</th>\n",
       "      <td>2</td>\n",
       "      <td>http://allegro.pl/sporty-towarzyskie-i-rekreac...</td>\n",
       "      <td>benign</td>\n",
       "      <td>0</td>\n",
       "    </tr>\n",
       "    <tr>\n",
       "      <th>3</th>\n",
       "      <td>3</td>\n",
       "      <td>http://askubuntu.com/questions/605806/why-dead...</td>\n",
       "      <td>benign</td>\n",
       "      <td>0</td>\n",
       "    </tr>\n",
       "    <tr>\n",
       "      <th>4</th>\n",
       "      <td>4</td>\n",
       "      <td>http://elitedaily.com/news/world/man-wife-preg...</td>\n",
       "      <td>benign</td>\n",
       "      <td>0</td>\n",
       "    </tr>\n",
       "  </tbody>\n",
       "</table>\n",
       "</div>"
      ],
      "text/plain": [
       "   Unnamed: 0                                                url   label  \\\n",
       "0           0  http://1337x.to/torrent/1048648/American-Snipe...  benign   \n",
       "1           1  http://abc.go.com/shows/the-muppets/video/new-...  benign   \n",
       "2           2  http://allegro.pl/sporty-towarzyskie-i-rekreac...  benign   \n",
       "3           3  http://askubuntu.com/questions/605806/why-dead...  benign   \n",
       "4           4  http://elitedaily.com/news/world/man-wife-preg...  benign   \n",
       "\n",
       "   result  \n",
       "0       0  \n",
       "1       0  \n",
       "2       0  \n",
       "3       0  \n",
       "4       0  "
      ]
     },
     "execution_count": 4,
     "metadata": {},
     "output_type": "execute_result"
    }
   ],
   "source": [
    "urldata.head()"
   ]
  },
  {
   "cell_type": "code",
   "execution_count": 5,
   "id": "6e40ce2e",
   "metadata": {},
   "outputs": [],
   "source": [
    "#removing unnamed column\n",
    "urldata = urldata.drop('Unnamed: 0',axis=1)"
   ]
  },
  {
   "cell_type": "code",
   "execution_count": 6,
   "id": "9bf96a17",
   "metadata": {},
   "outputs": [
    {
     "data": {
      "text/html": [
       "<div>\n",
       "<style scoped>\n",
       "    .dataframe tbody tr th:only-of-type {\n",
       "        vertical-align: middle;\n",
       "    }\n",
       "\n",
       "    .dataframe tbody tr th {\n",
       "        vertical-align: top;\n",
       "    }\n",
       "\n",
       "    .dataframe thead th {\n",
       "        text-align: right;\n",
       "    }\n",
       "</style>\n",
       "<table border=\"1\" class=\"dataframe\">\n",
       "  <thead>\n",
       "    <tr style=\"text-align: right;\">\n",
       "      <th></th>\n",
       "      <th>url</th>\n",
       "      <th>label</th>\n",
       "      <th>result</th>\n",
       "    </tr>\n",
       "  </thead>\n",
       "  <tbody>\n",
       "    <tr>\n",
       "      <th>0</th>\n",
       "      <td>http://1337x.to/torrent/1048648/American-Snipe...</td>\n",
       "      <td>benign</td>\n",
       "      <td>0</td>\n",
       "    </tr>\n",
       "    <tr>\n",
       "      <th>1</th>\n",
       "      <td>http://abc.go.com/shows/the-muppets/video/new-...</td>\n",
       "      <td>benign</td>\n",
       "      <td>0</td>\n",
       "    </tr>\n",
       "    <tr>\n",
       "      <th>2</th>\n",
       "      <td>http://allegro.pl/sporty-towarzyskie-i-rekreac...</td>\n",
       "      <td>benign</td>\n",
       "      <td>0</td>\n",
       "    </tr>\n",
       "    <tr>\n",
       "      <th>3</th>\n",
       "      <td>http://askubuntu.com/questions/605806/why-dead...</td>\n",
       "      <td>benign</td>\n",
       "      <td>0</td>\n",
       "    </tr>\n",
       "    <tr>\n",
       "      <th>4</th>\n",
       "      <td>http://elitedaily.com/news/world/man-wife-preg...</td>\n",
       "      <td>benign</td>\n",
       "      <td>0</td>\n",
       "    </tr>\n",
       "    <tr>\n",
       "      <th>...</th>\n",
       "      <td>...</td>\n",
       "      <td>...</td>\n",
       "      <td>...</td>\n",
       "    </tr>\n",
       "    <tr>\n",
       "      <th>49995</th>\n",
       "      <td>http://www.xpj5988.com/skin/css/cn.css;jsessio...</td>\n",
       "      <td>malicious</td>\n",
       "      <td>1</td>\n",
       "    </tr>\n",
       "    <tr>\n",
       "      <th>49996</th>\n",
       "      <td>http://www.xpj5988.com/skin/css/cn.css;jsessio...</td>\n",
       "      <td>malicious</td>\n",
       "      <td>1</td>\n",
       "    </tr>\n",
       "    <tr>\n",
       "      <th>49997</th>\n",
       "      <td>http://www.xpj5988.com/skin/css/cn.css;jsessio...</td>\n",
       "      <td>malicious</td>\n",
       "      <td>1</td>\n",
       "    </tr>\n",
       "    <tr>\n",
       "      <th>49998</th>\n",
       "      <td>http://www.xpj5988.com/skin/css/cn.css;jsessio...</td>\n",
       "      <td>malicious</td>\n",
       "      <td>1</td>\n",
       "    </tr>\n",
       "    <tr>\n",
       "      <th>49999</th>\n",
       "      <td>http://www.xpj5988.com/skin/css/cn.css;jsessio...</td>\n",
       "      <td>malicious</td>\n",
       "      <td>1</td>\n",
       "    </tr>\n",
       "  </tbody>\n",
       "</table>\n",
       "<p>50000 rows × 3 columns</p>\n",
       "</div>"
      ],
      "text/plain": [
       "                                                     url      label  result\n",
       "0      http://1337x.to/torrent/1048648/American-Snipe...     benign       0\n",
       "1      http://abc.go.com/shows/the-muppets/video/new-...     benign       0\n",
       "2      http://allegro.pl/sporty-towarzyskie-i-rekreac...     benign       0\n",
       "3      http://askubuntu.com/questions/605806/why-dead...     benign       0\n",
       "4      http://elitedaily.com/news/world/man-wife-preg...     benign       0\n",
       "...                                                  ...        ...     ...\n",
       "49995  http://www.xpj5988.com/skin/css/cn.css;jsessio...  malicious       1\n",
       "49996  http://www.xpj5988.com/skin/css/cn.css;jsessio...  malicious       1\n",
       "49997  http://www.xpj5988.com/skin/css/cn.css;jsessio...  malicious       1\n",
       "49998  http://www.xpj5988.com/skin/css/cn.css;jsessio...  malicious       1\n",
       "49999  http://www.xpj5988.com/skin/css/cn.css;jsessio...  malicious       1\n",
       "\n",
       "[50000 rows x 3 columns]"
      ]
     },
     "execution_count": 6,
     "metadata": {},
     "output_type": "execute_result"
    }
   ],
   "source": [
    "urldata"
   ]
  },
  {
   "cell_type": "code",
   "execution_count": 7,
   "id": "43d9cccf",
   "metadata": {},
   "outputs": [
    {
     "name": "stdout",
     "output_type": "stream",
     "text": [
      "<class 'pandas.core.frame.DataFrame'>\n",
      "RangeIndex: 50000 entries, 0 to 49999\n",
      "Data columns (total 3 columns):\n",
      " #   Column  Non-Null Count  Dtype \n",
      "---  ------  --------------  ----- \n",
      " 0   url     50000 non-null  object\n",
      " 1   label   50000 non-null  object\n",
      " 2   result  50000 non-null  int64 \n",
      "dtypes: int64(1), object(2)\n",
      "memory usage: 1.1+ MB\n"
     ]
    }
   ],
   "source": [
    "urldata.info()\n"
   ]
  },
  {
   "cell_type": "code",
   "execution_count": 8,
   "id": "a82e8fa4",
   "metadata": {},
   "outputs": [
    {
     "data": {
      "text/plain": [
       "url       0\n",
       "label     0\n",
       "result    0\n",
       "dtype: int64"
      ]
     },
     "execution_count": 8,
     "metadata": {},
     "output_type": "execute_result"
    }
   ],
   "source": [
    "#checking for missing values\n",
    "urldata.isnull().sum()"
   ]
  },
  {
   "cell_type": "code",
   "execution_count": 9,
   "id": "4b9115cb",
   "metadata": {},
   "outputs": [],
   "source": [
    "from urllib.parse import urlparse"
   ]
  },
  {
   "cell_type": "code",
   "execution_count": 10,
   "id": "b39a20fa",
   "metadata": {},
   "outputs": [],
   "source": [
    "from tld import get_tld"
   ]
  },
  {
   "cell_type": "code",
   "execution_count": 11,
   "id": "d1484df0",
   "metadata": {},
   "outputs": [],
   "source": [
    "#length of url\n",
    "urldata['url_length'] = urldata['url'].apply(lambda i: len(str(i)))"
   ]
  },
  {
   "cell_type": "code",
   "execution_count": 12,
   "id": "b5e4b09c",
   "metadata": {},
   "outputs": [],
   "source": [
    "urldata['hostname_length'] = urldata['url'].apply(lambda i: len(urlparse(i).netloc))"
   ]
  },
  {
   "cell_type": "code",
   "execution_count": 13,
   "id": "fa61caab",
   "metadata": {},
   "outputs": [],
   "source": [
    "#Length of Top Level Domain\n",
    "urldata['tld'] = urldata['url'].apply(lambda i: get_tld(i,fail_silently=True))\n",
    "def tld_length(tld):\n",
    "    try:\n",
    "        return len(tld)\n",
    "    except:\n",
    "        return -1\n",
    "\n",
    "urldata['tld_length'] = urldata['tld'].apply(lambda i: tld_length(i))"
   ]
  },
  {
   "cell_type": "code",
   "execution_count": 14,
   "id": "4f4de32f",
   "metadata": {},
   "outputs": [],
   "source": [
    "urldata['count@'] = urldata['url'].apply(lambda i: i.count('@'))\n",
    "urldata['count.'] = urldata['url'].apply(lambda i: i.count('.'))\n",
    "urldata['count-http'] = urldata['url'].apply(lambda i : i.count('http'))\n"
   ]
  },
  {
   "cell_type": "code",
   "execution_count": 15,
   "id": "a54bd4d4",
   "metadata": {},
   "outputs": [
    {
     "data": {
      "text/html": [
       "<div>\n",
       "<style scoped>\n",
       "    .dataframe tbody tr th:only-of-type {\n",
       "        vertical-align: middle;\n",
       "    }\n",
       "\n",
       "    .dataframe tbody tr th {\n",
       "        vertical-align: top;\n",
       "    }\n",
       "\n",
       "    .dataframe thead th {\n",
       "        text-align: right;\n",
       "    }\n",
       "</style>\n",
       "<table border=\"1\" class=\"dataframe\">\n",
       "  <thead>\n",
       "    <tr style=\"text-align: right;\">\n",
       "      <th></th>\n",
       "      <th>url</th>\n",
       "      <th>label</th>\n",
       "      <th>result</th>\n",
       "      <th>url_length</th>\n",
       "      <th>hostname_length</th>\n",
       "      <th>tld</th>\n",
       "      <th>tld_length</th>\n",
       "      <th>count@</th>\n",
       "      <th>count.</th>\n",
       "      <th>count-http</th>\n",
       "    </tr>\n",
       "  </thead>\n",
       "  <tbody>\n",
       "    <tr>\n",
       "      <th>0</th>\n",
       "      <td>http://1337x.to/torrent/1048648/American-Snipe...</td>\n",
       "      <td>benign</td>\n",
       "      <td>0</td>\n",
       "      <td>83</td>\n",
       "      <td>8</td>\n",
       "      <td>to</td>\n",
       "      <td>2</td>\n",
       "      <td>0</td>\n",
       "      <td>1</td>\n",
       "      <td>1</td>\n",
       "    </tr>\n",
       "    <tr>\n",
       "      <th>1</th>\n",
       "      <td>http://abc.go.com/shows/the-muppets/video/new-...</td>\n",
       "      <td>benign</td>\n",
       "      <td>0</td>\n",
       "      <td>83</td>\n",
       "      <td>10</td>\n",
       "      <td>com</td>\n",
       "      <td>3</td>\n",
       "      <td>0</td>\n",
       "      <td>2</td>\n",
       "      <td>1</td>\n",
       "    </tr>\n",
       "    <tr>\n",
       "      <th>2</th>\n",
       "      <td>http://allegro.pl/sporty-towarzyskie-i-rekreac...</td>\n",
       "      <td>benign</td>\n",
       "      <td>0</td>\n",
       "      <td>83</td>\n",
       "      <td>10</td>\n",
       "      <td>pl</td>\n",
       "      <td>2</td>\n",
       "      <td>0</td>\n",
       "      <td>1</td>\n",
       "      <td>1</td>\n",
       "    </tr>\n",
       "    <tr>\n",
       "      <th>3</th>\n",
       "      <td>http://askubuntu.com/questions/605806/why-dead...</td>\n",
       "      <td>benign</td>\n",
       "      <td>0</td>\n",
       "      <td>83</td>\n",
       "      <td>13</td>\n",
       "      <td>com</td>\n",
       "      <td>3</td>\n",
       "      <td>0</td>\n",
       "      <td>1</td>\n",
       "      <td>1</td>\n",
       "    </tr>\n",
       "    <tr>\n",
       "      <th>4</th>\n",
       "      <td>http://elitedaily.com/news/world/man-wife-preg...</td>\n",
       "      <td>benign</td>\n",
       "      <td>0</td>\n",
       "      <td>83</td>\n",
       "      <td>14</td>\n",
       "      <td>com</td>\n",
       "      <td>3</td>\n",
       "      <td>0</td>\n",
       "      <td>1</td>\n",
       "      <td>1</td>\n",
       "    </tr>\n",
       "  </tbody>\n",
       "</table>\n",
       "</div>"
      ],
      "text/plain": [
       "                                                 url   label  result  \\\n",
       "0  http://1337x.to/torrent/1048648/American-Snipe...  benign       0   \n",
       "1  http://abc.go.com/shows/the-muppets/video/new-...  benign       0   \n",
       "2  http://allegro.pl/sporty-towarzyskie-i-rekreac...  benign       0   \n",
       "3  http://askubuntu.com/questions/605806/why-dead...  benign       0   \n",
       "4  http://elitedaily.com/news/world/man-wife-preg...  benign       0   \n",
       "\n",
       "   url_length  hostname_length  tld  tld_length  count@  count.  count-http  \n",
       "0          83                8   to           2       0       1           1  \n",
       "1          83               10  com           3       0       2           1  \n",
       "2          83               10   pl           2       0       1           1  \n",
       "3          83               13  com           3       0       1           1  \n",
       "4          83               14  com           3       0       1           1  "
      ]
     },
     "execution_count": 15,
     "metadata": {},
     "output_type": "execute_result"
    }
   ],
   "source": [
    "urldata.head()"
   ]
  },
  {
   "cell_type": "code",
   "execution_count": 16,
   "id": "183323a7",
   "metadata": {},
   "outputs": [
    {
     "data": {
      "text/plain": [
       "Text(0, 0.5, 'Number Of URLs')"
      ]
     },
     "execution_count": 16,
     "metadata": {},
     "output_type": "execute_result"
    },
    {
     "data": {
      "image/png": "[encoded data removed]",
      "text/plain": [
       "<Figure size 1080x360 with 1 Axes>"
      ]
     },
     "metadata": {
      "needs_background": "light"
     },
     "output_type": "display_data"
    }
   ],
   "source": [
    "plt.figure(figsize=(15,5))\n",
    "sns.countplot(x='label',data=urldata)\n",
    "plt.title(\"Count Of URLs\",fontsize=20)\n",
    "plt.xlabel(\"Type Of URLs\",fontsize=18)\n",
    "plt.ylabel(\"Number Of URLs\",fontsize=18)"
   ]
  },
  {
   "cell_type": "code",
   "execution_count": 17,
   "id": "5418bf36",
   "metadata": {},
   "outputs": [
    {
     "name": "stdout",
     "output_type": "stream",
     "text": [
      "Percent Of Malicious URLs:29.24 %\n",
      "Percent Of Benign URLs:70.76 %\n"
     ]
    }
   ],
   "source": [
    "print(f\"Percent Of Malicious URLs:{round(len(urldata[urldata['label']=='malicious'])/len(urldata['label'])*100, 2)} %\")\n",
    "print(f\"Percent Of Benign URLs:{round(len(urldata[urldata['label']=='benign'])/len(urldata['label'])*100, 2)} %\")"
   ]
  },
  {
   "cell_type": "code",
   "execution_count": 18,
   "id": "52fda2f8",
   "metadata": {},
   "outputs": [
    {
     "data": {
      "text/plain": [
       "(30.0, 250.0)"
      ]
     },
     "execution_count": 18,
     "metadata": {},
     "output_type": "execute_result"
    },
    {
     "data": {
      "image/png": "[encoded data removed]",
      "text/plain": [
       "<Figure size 1440x360 with 1 Axes>"
      ]
     },
     "metadata": {
      "needs_background": "light"
     },
     "output_type": "display_data"
    }
   ],
   "source": [
    "plt.figure(figsize=(20,5))\n",
    "sns.histplot(data= urldata, x='url_length', hue='label', multiple='stack')\n",
    "plt.title(\"URL-Length\",fontsize=20)\n",
    "plt.xlabel(\"Url-Length\",fontsize=18)\n",
    "plt.ylabel(\"Number Of Urls\",fontsize=18)\n",
    "plt.ylim(0,1000)\n",
    "plt.xlim(30,250)"
   ]
  },
  {
   "cell_type": "code",
   "execution_count": 19,
   "id": "085ecab9",
   "metadata": {},
   "outputs": [
    {
     "data": {
      "text/plain": [
       "(0.0, 80.0)"
      ]
     },
     "execution_count": 19,
     "metadata": {},
     "output_type": "execute_result"
    },
    {
     "data": {
      "image/png": "[encoded data removed]",
      "text/plain": [
       "<Figure size 1800x360 with 1 Axes>"
      ]
     },
     "metadata": {
      "needs_background": "light"
     },
     "output_type": "display_data"
    }
   ],
   "source": [
    "plt.figure(figsize=(25,5))\n",
    "plt.title(\"Length Of Hostname\",fontsize=20)\n",
    "plt.xlabel(\"Length Of Hostname\",fontsize=18)\n",
    "plt.ylabel(\"Number Of URLs\",fontsize=18)\n",
    "sns.countplot(x='hostname_length',data=urldata,hue='label')\n",
    "plt.ylim(0,1000)\n",
    "plt.xlim(0,80)"
   ]
  },
  {
   "cell_type": "code",
   "execution_count": 20,
   "id": "5de763ac",
   "metadata": {},
   "outputs": [
    {
     "data": {
      "text/plain": [
       "(0.0, 40.0)"
      ]
     },
     "execution_count": 20,
     "metadata": {},
     "output_type": "execute_result"
    },
    {
     "data": {
      "image/png": "[encoded data removed]",
      "text/plain": [
       "<Figure size 1800x360 with 1 Axes>"
      ]
     },
     "metadata": {
      "needs_background": "light"
     },
     "output_type": "display_data"
    }
   ],
   "source": [
    "plt.figure(figsize=(25,5))\n",
    "plt.title(\"Length Of Hostname\",fontsize=20)\n",
    "plt.xlabel(\"Length Of Hostname\",fontsize=18)\n",
    "plt.ylabel(\"Number Of URLs\",fontsize=18)\n",
    "sns.countplot(x='hostname_length',data=urldata,hue='label')\n",
    "plt.ylim(0,1000)\n",
    "plt.xlim(0,40)"
   ]
  },
  {
   "cell_type": "code",
   "execution_count": 21,
   "id": "956553f1",
   "metadata": {},
   "outputs": [
    {
     "data": {
      "text/plain": [
       "(0.0, 12000.0)"
      ]
     },
     "execution_count": 21,
     "metadata": {},
     "output_type": "execute_result"
    },
    {
     "data": {
      "image/png": "[encoded data removed]",
      "text/plain": [
       "<Figure size 720x720 with 1 Axes>"
      ]
     },
     "metadata": {
      "needs_background": "light"
     },
     "output_type": "display_data"
    }
   ],
   "source": [
    "plt.figure(figsize=(10,10))\n",
    "plt.title(\"Length Of TLD\",fontsize=20)\n",
    "sns.countplot(x='tld_length',data=urldata,hue='label')\n",
    "plt.xlabel(\"Length Of TLD\",fontsize=18)\n",
    "plt.ylabel(\"Number Of URLs\",fontsize=18)\n",
    "plt.ylim(0,12000)"
   ]
  },
  {
   "cell_type": "code",
   "execution_count": 22,
   "id": "c4fa4278",
   "metadata": {},
   "outputs": [
    {
     "data": {
      "text/plain": [
       "(0.0, 20000.0)"
      ]
     },
     "execution_count": 22,
     "metadata": {},
     "output_type": "execute_result"
    },
    {
     "data": {
      "image/png": "[encoded data removed]",
      "text/plain": [
       "<Figure size 1800x360 with 1 Axes>"
      ]
     },
     "metadata": {
      "needs_background": "light"
     },
     "output_type": "display_data"
    }
   ],
   "source": [
    "plt.figure(figsize=(25,5))\n",
    "plt.title(\"Count @\",fontsize=20)\n",
    "sns.countplot(x='count@',data=urldata,hue='label')\n",
    "plt.xlabel(\"Count of @\",fontsize=18)\n",
    "plt.ylabel(\"Number Of URLs\",fontsize=18)\n",
    "plt.ylim(0,20000)"
   ]
  },
  {
   "cell_type": "code",
   "execution_count": 23,
   "id": "7f531b64",
   "metadata": {},
   "outputs": [
    {
     "data": {
      "text/plain": [
       "(0.0, 12.0)"
      ]
     },
     "execution_count": 23,
     "metadata": {},
     "output_type": "execute_result"
    },
    {
     "data": {
      "image/png": "[encoded data removed]",
      "text/plain": [
       "<Figure size 1800x360 with 1 Axes>"
      ]
     },
     "metadata": {
      "needs_background": "light"
     },
     "output_type": "display_data"
    }
   ],
   "source": [
    "plt.figure(figsize=(25,5))\n",
    "plt.title(\"Count .\",fontsize=20)\n",
    "sns.countplot(x='count.',data=urldata,hue='label')\n",
    "plt.xlabel(\"Count of .\",fontsize=18)\n",
    "plt.ylabel(\"Number Of URLs\",fontsize=18)\n",
    "plt.ylim(0,12000)\n",
    "plt.xlim(0,12)"
   ]
  },
  {
   "cell_type": "code",
   "execution_count": 32,
   "id": "45e3a46c",
   "metadata": {},
   "outputs": [
    {
     "data": {
      "text/plain": [
       "Text(0, 0.5, 'Number Of URLs')"
      ]
     },
     "execution_count": 32,
     "metadata": {},
     "output_type": "execute_result"
    },
    {
     "data": {
      "image/png": "[encoded data removed]",
      "text/plain": [
       "<Figure size 1800x360 with 1 Axes>"
      ]
     },
     "metadata": {
      "needs_background": "light"
     },
     "output_type": "display_data"
    }
   ],
   "source": [
    "plt.figure(figsize=(25,5))\n",
    "plt.title(\"Count http\",fontsize=20)\n",
    "sns.countplot(x='count-http',data=urldata,hue='label')\n",
    "plt.xlabel(\"Count Of http\",fontsize=18)\n",
    "plt.ylabel(\"Number Of URLs\",fontsize=18)"
   ]
  },
  {
   "cell_type": "code",
   "execution_count": 25,
   "id": "64868b60",
   "metadata": {},
   "outputs": [],
   "source": [
    "from sklearn.linear_model import LogisticRegression\n",
    "from sklearn.ensemble import RandomForestClassifier\n",
    "from sklearn.model_selection import train_test_split\n",
    "from sklearn.metrics import accuracy_score"
   ]
  },
  {
   "cell_type": "code",
   "execution_count": 26,
   "id": "b21690ea",
   "metadata": {},
   "outputs": [],
   "source": [
    "x = urldata[['url_length', 'hostname_length', 'tld_length', 'count@', 'count.', 'count-http']]\n",
    "\n",
    "#Target Variable\n",
    "y = urldata['result']"
   ]
  },
  {
   "cell_type": "code",
   "execution_count": 27,
   "id": "f0dc7faa",
   "metadata": {},
   "outputs": [
    {
     "data": {
      "text/plain": [
       "(50000, 6)"
      ]
     },
     "execution_count": 27,
     "metadata": {},
     "output_type": "execute_result"
    }
   ],
   "source": [
    "x.shape"
   ]
  },
  {
   "cell_type": "code",
   "execution_count": 28,
   "id": "ce35ec4f",
   "metadata": {},
   "outputs": [
    {
     "data": {
      "text/plain": [
       "(50000,)"
      ]
     },
     "execution_count": 28,
     "metadata": {},
     "output_type": "execute_result"
    }
   ],
   "source": [
    "y.shape"
   ]
  },
  {
   "cell_type": "code",
   "execution_count": 29,
   "id": "991033b9",
   "metadata": {},
   "outputs": [],
   "source": [
    "#Splitting the data into Training and Testing\n",
    "x_train, x_test, y_train, y_test = train_test_split(x, y, train_size=0.2)"
   ]
  },
  {
   "cell_type": "code",
   "execution_count": 30,
   "id": "6a863876",
   "metadata": {},
   "outputs": [
    {
     "data": {
      "text/plain": [
       "0.87255"
      ]
     },
     "execution_count": 30,
     "metadata": {},
     "output_type": "execute_result"
    }
   ],
   "source": [
    "#Logistic Regression\n",
    "log_model=LogisticRegression()\n",
    "log_model.fit(x_train,y_train)\n",
    "\n",
    "log_predictions = log_model.predict(x_test)\n",
    "accuracy_score(y_test,log_predictions)"
   ]
  },
  {
   "cell_type": "code",
   "execution_count": 31,
   "id": "4a57da71",
   "metadata": {},
   "outputs": [
    {
     "data": {
      "text/plain": [
       "0.973075"
      ]
     },
     "execution_count": 31,
     "metadata": {},
     "output_type": "execute_result"
    }
   ],
   "source": [
    "rfc = RandomForestClassifier()\n",
    "rfc.fit(x_train, y_train)\n",
    "\n",
    "rfc_predictions = rfc.predict(x_test)\n",
    "accuracy_score(y_test, rfc_predictions)"
   ]
  }
 ],
 "metadata": {
  "kernelspec": {
   "display_name": "Python 3 (ipykernel)",
   "language": "python",
   "name": "python3"
  },
  "language_info": {
   "codemirror_mode": {
    "name": "ipython",
    "version": 3
   },
   "file_extension": ".py",
   "mimetype": "text/x-python",
   "name": "python",
   "nbconvert_exporter": "python",
   "pygments_lexer": "ipython3",
   "version": "3.9.6"
  }
 },
 "nbformat": 4,
 "nbformat_minor": 5
}