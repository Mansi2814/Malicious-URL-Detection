{
 "cells": [
  {
   "cell_type": "code",
   "execution_count": 1,
   "id": "77592643",
   "metadata": {},
   "outputs": [],
   "source": [
    "import numpy as np \n",
    "import pandas as pd \n",
    "\n",
    "import matplotlib.pyplot as plt\n",
    "import seaborn as sns\n",
    "\n",
    "import os"
   ]
  },
  {
   "cell_type": "code",
   "execution_count": 2,
   "id": "4e235a9a",
   "metadata": {
    "scrolled": true
   },
   "outputs": [
    {
     "name": "stdout",
     "output_type": "stream",
     "text": [
      "['malicious_phish.csv', 'mal_url_dataset.csv', 'mal_url_dataset_1.csv', 'urldata.csv', 'urldata1.csv']\n"
     ]
    }
   ],
   "source": [
    "print(os.listdir(\"../data\"))"
   ]
  },
  {
   "cell_type": "code",
   "execution_count": 3,
   "id": "e43bb46a",
   "metadata": {},
   "outputs": [],
   "source": [
    "urldata = pd.read_csv(\"../data/urldata1.csv\")"
   ]
  },
  {
   "cell_type": "code",
   "execution_count": 4,
   "id": "ba169125",
   "metadata": {
    "scrolled": true
   },
   "outputs": [
    {
     "data": {
      "text/html": [
       "<div>\n",
       "<style scoped>\n",
       "    .dataframe tbody tr th:only-of-type {\n",
       "        vertical-align: middle;\n",
       "    }\n",
       "\n",
       "    .dataframe tbody tr th {\n",
       "        vertical-align: top;\n",
       "    }\n",
       "\n",
       "    .dataframe thead th {\n",
       "        text-align: right;\n",
       "    }\n",
       "</style>\n",
       "<table border=\"1\" class=\"dataframe\">\n",
       "  <thead>\n",
       "    <tr style=\"text-align: right;\">\n",
       "      <th></th>\n",
       "      <th>Unnamed: 0</th>\n",
       "      <th>url</th>\n",
       "      <th>label</th>\n",
       "      <th>result</th>\n",
       "    </tr>\n",
       "  </thead>\n",
       "  <tbody>\n",
       "    <tr>\n",
       "      <th>0</th>\n",
       "      <td>0</td>\n",
       "      <td>https://www.google.com</td>\n",
       "      <td>benign</td>\n",
       "      <td>0</td>\n",
       "    </tr>\n",
       "    <tr>\n",
       "      <th>1</th>\n",
       "      <td>1</td>\n",
       "      <td>https://www.youtube.com</td>\n",
       "      <td>benign</td>\n",
       "      <td>0</td>\n",
       "    </tr>\n",
       "    <tr>\n",
       "      <th>2</th>\n",
       "      <td>2</td>\n",
       "      <td>https://www.facebook.com</td>\n",
       "      <td>benign</td>\n",
       "      <td>0</td>\n",
       "    </tr>\n",
       "    <tr>\n",
       "      <th>3</th>\n",
       "      <td>3</td>\n",
       "      <td>https://www.baidu.com</td>\n",
       "      <td>benign</td>\n",
       "      <td>0</td>\n",
       "    </tr>\n",
       "    <tr>\n",
       "      <th>4</th>\n",
       "      <td>4</td>\n",
       "      <td>https://www.wikipedia.org</td>\n",
       "      <td>benign</td>\n",
       "      <td>0</td>\n",
       "    </tr>\n",
       "  </tbody>\n",
       "</table>\n",
       "</div>"
      ],
      "text/plain": [
       "   Unnamed: 0                        url   label  result\n",
       "0           0     https://www.google.com  benign       0\n",
       "1           1    https://www.youtube.com  benign       0\n",
       "2           2   https://www.facebook.com  benign       0\n",
       "3           3      https://www.baidu.com  benign       0\n",
       "4           4  https://www.wikipedia.org  benign       0"
      ]
     },
     "execution_count": 4,
     "metadata": {},
     "output_type": "execute_result"
    }
   ],
   "source": [
    "urldata.head()"
   ]
  },
  {
   "cell_type": "code",
   "execution_count": 5,
   "id": "6e40ce2e",
   "metadata": {},
   "outputs": [],
   "source": [
    "#removing unnamed column\n",
    "urldata = urldata.drop('Unnamed: 0',axis=1)\n",
    "#removing unnamed column\n",
    "# urldata = urldata"
   ]
  },
  {
   "cell_type": "code",
   "execution_count": 6,
   "id": "9bf96a17",
   "metadata": {},
   "outputs": [
    {
     "data": {
      "text/html": [
       "<div>\n",
       "<style scoped>\n",
       "    .dataframe tbody tr th:only-of-type {\n",
       "        vertical-align: middle;\n",
       "    }\n",
       "\n",
       "    .dataframe tbody tr th {\n",
       "        vertical-align: top;\n",
       "    }\n",
       "\n",
       "    .dataframe thead th {\n",
       "        text-align: right;\n",
       "    }\n",
       "</style>\n",
       "<table border=\"1\" class=\"dataframe\">\n",
       "  <thead>\n",
       "    <tr style=\"text-align: right;\">\n",
       "      <th></th>\n",
       "      <th>url</th>\n",
       "      <th>label</th>\n",
       "      <th>result</th>\n",
       "    </tr>\n",
       "  </thead>\n",
       "  <tbody>\n",
       "    <tr>\n",
       "      <th>0</th>\n",
       "      <td>https://www.google.com</td>\n",
       "      <td>benign</td>\n",
       "      <td>0</td>\n",
       "    </tr>\n",
       "    <tr>\n",
       "      <th>1</th>\n",
       "      <td>https://www.youtube.com</td>\n",
       "      <td>benign</td>\n",
       "      <td>0</td>\n",
       "    </tr>\n",
       "    <tr>\n",
       "      <th>2</th>\n",
       "      <td>https://www.facebook.com</td>\n",
       "      <td>benign</td>\n",
       "      <td>0</td>\n",
       "    </tr>\n",
       "    <tr>\n",
       "      <th>3</th>\n",
       "      <td>https://www.baidu.com</td>\n",
       "      <td>benign</td>\n",
       "      <td>0</td>\n",
       "    </tr>\n",
       "    <tr>\n",
       "      <th>4</th>\n",
       "      <td>https://www.wikipedia.org</td>\n",
       "      <td>benign</td>\n",
       "      <td>0</td>\n",
       "    </tr>\n",
       "    <tr>\n",
       "      <th>...</th>\n",
       "      <td>...</td>\n",
       "      <td>...</td>\n",
       "      <td>...</td>\n",
       "    </tr>\n",
       "    <tr>\n",
       "      <th>100171</th>\n",
       "      <td>http://ecct-it.com/docmmmnn/aptgd/index.php</td>\n",
       "      <td>malicious</td>\n",
       "      <td>1</td>\n",
       "    </tr>\n",
       "    <tr>\n",
       "      <th>100172</th>\n",
       "      <td>http://faboleena.com/js/infortis/jquery/plugin...</td>\n",
       "      <td>malicious</td>\n",
       "      <td>1</td>\n",
       "    </tr>\n",
       "    <tr>\n",
       "      <th>100173</th>\n",
       "      <td>http://faboleena.com/js/infortis/jquery/plugin...</td>\n",
       "      <td>malicious</td>\n",
       "      <td>1</td>\n",
       "    </tr>\n",
       "    <tr>\n",
       "      <th>100174</th>\n",
       "      <td>http://atualizapj.com/</td>\n",
       "      <td>malicious</td>\n",
       "      <td>1</td>\n",
       "    </tr>\n",
       "    <tr>\n",
       "      <th>100175</th>\n",
       "      <td>http://writeassociate.com/test/Portal/inicio/I...</td>\n",
       "      <td>malicious</td>\n",
       "      <td>1</td>\n",
       "    </tr>\n",
       "  </tbody>\n",
       "</table>\n",
       "<p>100176 rows × 3 columns</p>\n",
       "</div>"
      ],
      "text/plain": [
       "                                                      url      label  result\n",
       "0                                  https://www.google.com     benign       0\n",
       "1                                 https://www.youtube.com     benign       0\n",
       "2                                https://www.facebook.com     benign       0\n",
       "3                                   https://www.baidu.com     benign       0\n",
       "4                               https://www.wikipedia.org     benign       0\n",
       "...                                                   ...        ...     ...\n",
       "100171        http://ecct-it.com/docmmmnn/aptgd/index.php  malicious       1\n",
       "100172  http://faboleena.com/js/infortis/jquery/plugin...  malicious       1\n",
       "100173  http://faboleena.com/js/infortis/jquery/plugin...  malicious       1\n",
       "100174                             http://atualizapj.com/  malicious       1\n",
       "100175  http://writeassociate.com/test/Portal/inicio/I...  malicious       1\n",
       "\n",
       "[100176 rows x 3 columns]"
      ]
     },
     "execution_count": 6,
     "metadata": {},
     "output_type": "execute_result"
    }
   ],
   "source": [
    "urldata"
   ]
  },
  {
   "cell_type": "code",
   "execution_count": 7,
   "id": "43d9cccf",
   "metadata": {},
   "outputs": [
    {
     "name": "stdout",
     "output_type": "stream",
     "text": [
      "<class 'pandas.core.frame.DataFrame'>\n",
      "RangeIndex: 100176 entries, 0 to 100175\n",
      "Data columns (total 3 columns):\n",
      " #   Column  Non-Null Count   Dtype \n",
      "---  ------  --------------   ----- \n",
      " 0   url     100176 non-null  object\n",
      " 1   label   100176 non-null  object\n",
      " 2   result  100176 non-null  int64 \n",
      "dtypes: int64(1), object(2)\n",
      "memory usage: 2.3+ MB\n"
     ]
    }
   ],
   "source": [
    "urldata.info()\n"
   ]
  },
  {
   "cell_type": "code",
   "execution_count": 8,
   "id": "a82e8fa4",
   "metadata": {},
   "outputs": [
    {
     "data": {
      "text/plain": [
       "url       0\n",
       "label     0\n",
       "result    0\n",
       "dtype: int64"
      ]
     },
     "execution_count": 8,
     "metadata": {},
     "output_type": "execute_result"
    }
   ],
   "source": [
    "#checking for missing values\n",
    "urldata.isnull().sum()"
   ]
  },
  {
   "cell_type": "code",
   "execution_count": 9,
   "id": "4b9115cb",
   "metadata": {},
   "outputs": [],
   "source": [
    "from urllib.parse import urlparse"
   ]
  },
  {
   "cell_type": "code",
   "execution_count": 10,
   "id": "b39a20fa",
   "metadata": {},
   "outputs": [],
   "source": [
    "from tld import get_tld"
   ]
  },
  {
   "cell_type": "code",
   "execution_count": 11,
   "id": "d1484df0",
   "metadata": {},
   "outputs": [],
   "source": [
    "#length of url\n",
    "urldata['url_length'] = urldata['url'].apply(lambda i: len(str(i)))"
   ]
  },
  {
   "cell_type": "code",
   "execution_count": 12,
   "id": "b5e4b09c",
   "metadata": {},
   "outputs": [],
   "source": [
    "urldata['hostname_length'] = urldata['url'].apply(lambda i: len(urlparse(i).netloc))"
   ]
  },
  {
   "cell_type": "code",
   "execution_count": 13,
   "id": "fa61caab",
   "metadata": {},
   "outputs": [],
   "source": [
    "#Length of Top Level Domain\n",
    "urldata['tld'] = urldata['url'].apply(lambda i: get_tld(i,fail_silently=True))\n",
    "def tld_length(tld):\n",
    "    try:\n",
    "        return len(tld)\n",
    "    except:\n",
    "        return 0\n",
    "\n",
    "urldata['tld_length'] = urldata['tld'].apply(lambda i: tld_length(i) if i != 0 else i)"
   ]
  },
  {
   "cell_type": "code",
   "execution_count": 14,
   "id": "5bfa18f5",
   "metadata": {},
   "outputs": [],
   "source": [
    "urldata['path_length'] = urldata['url'].apply(lambda i: len(urlparse(i).path))"
   ]
  },
  {
   "cell_type": "code",
   "execution_count": 15,
   "id": "4f4de32f",
   "metadata": {},
   "outputs": [],
   "source": [
    "urldata['count@'] = urldata['url'].apply(lambda i: i.count('@'))\n",
    "urldata['count.'] = urldata['url'].apply(lambda i: i.count('.'))\n",
    "urldata['count-http'] = urldata['url'].apply(lambda i : i.count('http'))\n"
   ]
  },
  {
   "cell_type": "code",
   "execution_count": 16,
   "id": "20b5e4f8",
   "metadata": {},
   "outputs": [],
   "source": [
    "def digit_count(url):\n",
    "    digits = 0\n",
    "    for i in url:\n",
    "        if i.isnumeric():\n",
    "            digits = digits + 1\n",
    "    return digits\n",
    "urldata['count-digits']= urldata['url'].apply(lambda i: digit_count(i))"
   ]
  },
  {
   "cell_type": "code",
   "execution_count": 17,
   "id": "dcba89a0",
   "metadata": {},
   "outputs": [],
   "source": [
    "def url_has_port_in_string(url):\n",
    "    has_port = urlparse(url).netloc.split(':')\n",
    "    return len(has_port) > 1 and has_port[-1].isdigit()\n",
    "urldata['url_has_port_in_string'] = urldata['url'].apply(lambda i: url_has_port_in_string(i))"
   ]
  },
  {
   "cell_type": "code",
   "execution_count": 18,
   "id": "6af6ef00",
   "metadata": {},
   "outputs": [],
   "source": [
    "# import re\n",
    "# def shortening_service(url):\n",
    "#     match = re.search('bit\\.ly|goo\\.gl|shorte\\.st|go2l\\.ink|x\\.co|ow\\.ly|t\\.co|tinyurl|tr\\.im|is\\.gd|cli\\.gs|'\n",
    "#                       'yfrog\\.com|migre\\.me|ff\\.im|tiny\\.cc|url4\\.eu|twit\\.ac|su\\.pr|twurl\\.nl|snipurl\\.com|'\n",
    "#                       'short\\.to|BudURL\\.com|ping\\.fm|post\\.ly|Just\\.as|bkite\\.com|snipr\\.com|fic\\.kr|loopt\\.us|'\n",
    "#                       'doiop\\.com|short\\.ie|kl\\.am|wp\\.me|rubyurl\\.com|om\\.ly|to\\.ly|bit\\.do|t\\.co|lnkd\\.in|'\n",
    "#                       'db\\.tt|qr\\.ae|adf\\.ly|goo\\.gl|bitly\\.com|cur\\.lv|tinyurl\\.com|ow\\.ly|bit\\.ly|ity\\.im|'\n",
    "#                       'q\\.gs|is\\.gd|po\\.st|bc\\.vc|twitthis\\.com|u\\.to|j\\.mp|buzurl\\.com|cutt\\.us|u\\.bb|yourls\\.org|'\n",
    "#                       'x\\.co|prettylinkpro\\.com|scrnch\\.me|filoops\\.info|vzturl\\.com|qr\\.net|1url\\.com|tweez\\.me|v\\.gd|'\n",
    "#                       'tr\\.im|link\\.zip\\.net',\n",
    "#                       url)\n",
    "#     if match:\n",
    "#         return -1\n",
    "#     else:\n",
    "#         return 1\n",
    "# urldata['short_url'] = urldata['url'].apply(lambda i: shortening_service(i))"
   ]
  },
  {
   "cell_type": "code",
   "execution_count": 19,
   "id": "7f429dfe",
   "metadata": {
    "scrolled": true
   },
   "outputs": [],
   "source": [
    "# from requests import get\n",
    "# def get_html(url):\n",
    "#     try:\n",
    "#         html = get(url, timeout=5)\n",
    "#         html = html.text if html else None\n",
    "#     except:\n",
    "#         html = None\n",
    "#     return html\n",
    "\n",
    "# def number_of_whitespace(url):\n",
    "#     html=get_html(url)\n",
    "#     if html!=None:\n",
    "# #         whitespaces = [i for i in get_html(url) if i == ' ']\n",
    "#         whitespaces=0\n",
    "#         for i in html:\n",
    "#             if i==' ':\n",
    "#                 whitespaces+=1\n",
    "#         return whitespaces\n",
    "#     return -1\n",
    "# urldata['number_of_whitespace'] = urldata['url'].apply(lambda i: number_of_whitespace(i))\n",
    "# print(urldata['number_of_whitespace'])"
   ]
  },
  {
   "cell_type": "code",
   "execution_count": 20,
   "id": "a54bd4d4",
   "metadata": {},
   "outputs": [
    {
     "data": {
      "text/html": [
       "<div>\n",
       "<style scoped>\n",
       "    .dataframe tbody tr th:only-of-type {\n",
       "        vertical-align: middle;\n",
       "    }\n",
       "\n",
       "    .dataframe tbody tr th {\n",
       "        vertical-align: top;\n",
       "    }\n",
       "\n",
       "    .dataframe thead th {\n",
       "        text-align: right;\n",
       "    }\n",
       "</style>\n",
       "<table border=\"1\" class=\"dataframe\">\n",
       "  <thead>\n",
       "    <tr style=\"text-align: right;\">\n",
       "      <th></th>\n",
       "      <th>url</th>\n",
       "      <th>label</th>\n",
       "      <th>result</th>\n",
       "      <th>url_length</th>\n",
       "      <th>hostname_length</th>\n",
       "      <th>tld</th>\n",
       "      <th>tld_length</th>\n",
       "      <th>path_length</th>\n",
       "      <th>count@</th>\n",
       "      <th>count.</th>\n",
       "      <th>count-http</th>\n",
       "      <th>count-digits</th>\n",
       "      <th>url_has_port_in_string</th>\n",
       "    </tr>\n",
       "  </thead>\n",
       "  <tbody>\n",
       "    <tr>\n",
       "      <th>0</th>\n",
       "      <td>https://www.google.com</td>\n",
       "      <td>benign</td>\n",
       "      <td>0</td>\n",
       "      <td>22</td>\n",
       "      <td>14</td>\n",
       "      <td>com</td>\n",
       "      <td>3</td>\n",
       "      <td>0</td>\n",
       "      <td>0</td>\n",
       "      <td>2</td>\n",
       "      <td>1</td>\n",
       "      <td>0</td>\n",
       "      <td>False</td>\n",
       "    </tr>\n",
       "    <tr>\n",
       "      <th>1</th>\n",
       "      <td>https://www.youtube.com</td>\n",
       "      <td>benign</td>\n",
       "      <td>0</td>\n",
       "      <td>23</td>\n",
       "      <td>15</td>\n",
       "      <td>com</td>\n",
       "      <td>3</td>\n",
       "      <td>0</td>\n",
       "      <td>0</td>\n",
       "      <td>2</td>\n",
       "      <td>1</td>\n",
       "      <td>0</td>\n",
       "      <td>False</td>\n",
       "    </tr>\n",
       "    <tr>\n",
       "      <th>2</th>\n",
       "      <td>https://www.facebook.com</td>\n",
       "      <td>benign</td>\n",
       "      <td>0</td>\n",
       "      <td>24</td>\n",
       "      <td>16</td>\n",
       "      <td>com</td>\n",
       "      <td>3</td>\n",
       "      <td>0</td>\n",
       "      <td>0</td>\n",
       "      <td>2</td>\n",
       "      <td>1</td>\n",
       "      <td>0</td>\n",
       "      <td>False</td>\n",
       "    </tr>\n",
       "    <tr>\n",
       "      <th>3</th>\n",
       "      <td>https://www.baidu.com</td>\n",
       "      <td>benign</td>\n",
       "      <td>0</td>\n",
       "      <td>21</td>\n",
       "      <td>13</td>\n",
       "      <td>com</td>\n",
       "      <td>3</td>\n",
       "      <td>0</td>\n",
       "      <td>0</td>\n",
       "      <td>2</td>\n",
       "      <td>1</td>\n",
       "      <td>0</td>\n",
       "      <td>False</td>\n",
       "    </tr>\n",
       "    <tr>\n",
       "      <th>4</th>\n",
       "      <td>https://www.wikipedia.org</td>\n",
       "      <td>benign</td>\n",
       "      <td>0</td>\n",
       "      <td>25</td>\n",
       "      <td>17</td>\n",
       "      <td>org</td>\n",
       "      <td>3</td>\n",
       "      <td>0</td>\n",
       "      <td>0</td>\n",
       "      <td>2</td>\n",
       "      <td>1</td>\n",
       "      <td>0</td>\n",
       "      <td>False</td>\n",
       "    </tr>\n",
       "  </tbody>\n",
       "</table>\n",
       "</div>"
      ],
      "text/plain": [
       "                         url   label  result  url_length  hostname_length  \\\n",
       "0     https://www.google.com  benign       0          22               14   \n",
       "1    https://www.youtube.com  benign       0          23               15   \n",
       "2   https://www.facebook.com  benign       0          24               16   \n",
       "3      https://www.baidu.com  benign       0          21               13   \n",
       "4  https://www.wikipedia.org  benign       0          25               17   \n",
       "\n",
       "   tld  tld_length  path_length  count@  count.  count-http  count-digits  \\\n",
       "0  com           3            0       0       2           1             0   \n",
       "1  com           3            0       0       2           1             0   \n",
       "2  com           3            0       0       2           1             0   \n",
       "3  com           3            0       0       2           1             0   \n",
       "4  org           3            0       0       2           1             0   \n",
       "\n",
       "   url_has_port_in_string  \n",
       "0                   False  \n",
       "1                   False  \n",
       "2                   False  \n",
       "3                   False  \n",
       "4                   False  "
      ]
     },
     "execution_count": 20,
     "metadata": {},
     "output_type": "execute_result"
    }
   ],
   "source": [
    "urldata.head()"
   ]
  },
  {
   "cell_type": "code",
   "execution_count": 21,
   "id": "183323a7",
   "metadata": {},
   "outputs": [
    {
     "data": {
      "text/plain": [
       "Text(0, 0.5, 'Number Of URLs')"
      ]
     },
     "execution_count": 21,
     "metadata": {},
     "output_type": "execute_result"
    },
    {
     "data": {
      "image/png": "[encoded data removed]",
      "text/plain": [
       "<Figure size 1080x360 with 1 Axes>"
      ]
     },
     "metadata": {
      "needs_background": "light"
     },
     "output_type": "display_data"
    }
   ],
   "source": [
    "plt.figure(figsize=(15,5))\n",
    "sns.countplot(x='label',data=urldata)\n",
    "plt.title(\"Count Of URLs\",fontsize=20)\n",
    "plt.xlabel(\"Type Of URLs\",fontsize=18)\n",
    "plt.ylabel(\"Number Of URLs\",fontsize=18)"
   ]
  },
  {
   "cell_type": "code",
   "execution_count": 22,
   "id": "5418bf36",
   "metadata": {},
   "outputs": [
    {
     "name": "stdout",
     "output_type": "stream",
     "text": [
      "Percent Of Malicious URLs:50.09 %\n",
      "Percent Of Benign URLs:49.91 %\n"
     ]
    }
   ],
   "source": [
    "print(f\"Percent Of Malicious URLs:{round(len(urldata[urldata['label']=='malicious'])/len(urldata['label'])*100, 2)} %\")\n",
    "print(f\"Percent Of Benign URLs:{round(len(urldata[urldata['label']=='benign'])/len(urldata['label'])*100, 2)} %\")"
   ]
  },
  {
   "cell_type": "code",
   "execution_count": 23,
   "id": "52fda2f8",
   "metadata": {},
   "outputs": [
    {
     "data": {
      "text/plain": [
       "(170.0, 250.0)"
      ]
     },
     "execution_count": 23,
     "metadata": {},
     "output_type": "execute_result"
    },
    {
     "data": {
      "image/png": "[encoded data removed]",
      "text/plain": [
       "<Figure size 2160x360 with 1 Axes>"
      ]
     },
     "metadata": {
      "needs_background": "light"
     },
     "output_type": "display_data"
    }
   ],
   "source": [
    "plt.figure(figsize=(30,5))\n",
    "# sns.histplot(data= urldata, x='url_length', hue='label', multiple='stack')\n",
    "sns.countplot(x='url_length', data=urldata,hue='label')\n",
    "plt.title(\"URL-Length\",fontsize=20)\n",
    "plt.xlabel(\"Url-Length\",fontsize=18)\n",
    "plt.ylabel(\"Number Of Urls\",fontsize=18)\n",
    "plt.ylim(0,50)\n",
    "plt.xlim(170,250)"
   ]
  },
  {
   "cell_type": "code",
   "execution_count": 24,
   "id": "5de763ac",
   "metadata": {},
   "outputs": [
    {
     "data": {
      "text/plain": [
       "(0.0, 80.0)"
      ]
     },
     "execution_count": 24,
     "metadata": {},
     "output_type": "execute_result"
    },
    {
     "data": {
      "image/png": "[encoded data removed]",
      "text/plain": [
       "<Figure size 1800x360 with 1 Axes>"
      ]
     },
     "metadata": {
      "needs_background": "light"
     },
     "output_type": "display_data"
    }
   ],
   "source": [
    "plt.figure(figsize=(25,5))\n",
    "plt.title(\"Length Of Hostname\",fontsize=20)\n",
    "plt.xlabel(\"Length Of Hostname\",fontsize=18)\n",
    "plt.ylabel(\"Number Of URLs\",fontsize=18)\n",
    "sns.countplot(x='hostname_length',data=urldata,hue='label')\n",
    "plt.ylim(0,150)\n",
    "plt.xlim(0,80)"
   ]
  },
  {
   "cell_type": "code",
   "execution_count": 25,
   "id": "956553f1",
   "metadata": {},
   "outputs": [
    {
     "data": {
      "text/plain": [
       "(0.0, 100.0)"
      ]
     },
     "execution_count": 25,
     "metadata": {},
     "output_type": "execute_result"
    },
    {
     "data": {
      "image/png": "[encoded data removed]",
      "text/plain": [
       "<Figure size 720x720 with 1 Axes>"
      ]
     },
     "metadata": {
      "needs_background": "light"
     },
     "output_type": "display_data"
    }
   ],
   "source": [
    "plt.figure(figsize=(10,10))\n",
    "plt.title(\"Length Of TLD\",fontsize=20)\n",
    "sns.countplot(x='tld_length',data=urldata,hue='label')\n",
    "plt.xlabel(\"Length Of TLD\",fontsize=18)\n",
    "plt.ylabel(\"Number Of URLs\",fontsize=18)\n",
    "plt.ylim(0,100)"
   ]
  },
  {
   "cell_type": "code",
   "execution_count": 26,
   "id": "b9f5b9a3",
   "metadata": {},
   "outputs": [
    {
     "data": {
      "text/plain": [
       "(0.0, 10.0)"
      ]
     },
     "execution_count": 26,
     "metadata": {},
     "output_type": "execute_result"
    },
    {
     "data": {
      "image/png": "[encoded data removed]",
      "text/plain": [
       "<Figure size 1800x1080 with 1 Axes>"
      ]
     },
     "metadata": {
      "needs_background": "light"
     },
     "output_type": "display_data"
    }
   ],
   "source": [
    "plt.figure(figsize=(25,15))\n",
    "plt.title(\"Length Of Path\",fontsize=20)\n",
    "sns.countplot(x='path_length',data=urldata,hue='label')\n",
    "plt.xlabel(\"Length Of Path\",fontsize=18)\n",
    "plt.ylabel(\"Number Of URLs\",fontsize=18)\n",
    "plt.xlim(170,230)\n",
    "plt.ylim(0,10)"
   ]
  },
  {
   "cell_type": "code",
   "execution_count": 27,
   "id": "c4fa4278",
   "metadata": {},
   "outputs": [
    {
     "data": {
      "text/plain": [
       "(0.0, 50.0)"
      ]
     },
     "execution_count": 27,
     "metadata": {},
     "output_type": "execute_result"
    },
    {
     "data": {
      "image/png": "[encoded data removed]",
      "text/plain": [
       "<Figure size 1800x720 with 1 Axes>"
      ]
     },
     "metadata": {
      "needs_background": "light"
     },
     "output_type": "display_data"
    }
   ],
   "source": [
    "plt.figure(figsize=(25,10))\n",
    "plt.title(\"Count @\",fontsize=20)\n",
    "sns.countplot(x='count@',data=urldata,hue='label')\n",
    "plt.xlabel(\"Count of @\",fontsize=18)\n",
    "plt.ylabel(\"Number Of URLs\",fontsize=18)\n",
    "plt.ylim(0,50)"
   ]
  },
  {
   "cell_type": "code",
   "execution_count": 28,
   "id": "45e3a46c",
   "metadata": {},
   "outputs": [
    {
     "data": {
      "text/plain": [
       "(0.0, 50.0)"
      ]
     },
     "execution_count": 28,
     "metadata": {},
     "output_type": "execute_result"
    },
    {
     "data": {
      "image/png": "[encoded data removed]",
      "text/plain": [
       "<Figure size 1800x720 with 1 Axes>"
      ]
     },
     "metadata": {
      "needs_background": "light"
     },
     "output_type": "display_data"
    }
   ],
   "source": [
    "plt.figure(figsize=(25,10))\n",
    "plt.title(\"Count http\",fontsize=20)\n",
    "sns.countplot(x='count-http',data=urldata,hue='label')\n",
    "plt.xlabel(\"Count Of http\",fontsize=18)\n",
    "plt.ylabel(\"Number Of URLs\",fontsize=18)\n",
    "plt.ylim(0,50)"
   ]
  },
  {
   "cell_type": "code",
   "execution_count": 29,
   "id": "7f531b64",
   "metadata": {
    "scrolled": true
   },
   "outputs": [
    {
     "data": {
      "text/plain": [
       "(0.0, 200.0)"
      ]
     },
     "execution_count": 29,
     "metadata": {},
     "output_type": "execute_result"
    },
    {
     "data": {
      "image/png": "[encoded data removed]",
      "text/plain": [
       "<Figure size 1800x360 with 1 Axes>"
      ]
     },
     "metadata": {
      "needs_background": "light"
     },
     "output_type": "display_data"
    }
   ],
   "source": [
    "plt.figure(figsize=(25,5))\n",
    "plt.title(\"Count .\",fontsize=20)\n",
    "sns.countplot(x='count.',data=urldata,hue='label')\n",
    "plt.xlabel(\"Count of .\",fontsize=18)\n",
    "plt.ylabel(\"Number Of URLs\",fontsize=18)\n",
    "plt.ylim(0,200)\n",
    "# plt.xlim(0,25)"
   ]
  },
  {
   "cell_type": "code",
   "execution_count": 30,
   "id": "f5fb970a",
   "metadata": {},
   "outputs": [
    {
     "data": {
      "text/plain": [
       "(20.0, 100.0)"
      ]
     },
     "execution_count": 30,
     "metadata": {},
     "output_type": "execute_result"
    },
    {
     "data": {
      "image/png": "[encoded data removed]",
      "text/plain": [
       "<Figure size 1800x360 with 1 Axes>"
      ]
     },
     "metadata": {
      "needs_background": "light"
     },
     "output_type": "display_data"
    }
   ],
   "source": [
    "plt.figure(figsize=(25,5))\n",
    "plt.title(\"URL count-digits\",fontsize=20)\n",
    "sns.countplot(x='count-digits',data=urldata,hue='label')\n",
    "plt.xlabel(\"count of digits\",fontsize=18)\n",
    "plt.ylabel(\"Number Of URLs\",fontsize=18)\n",
    "plt.ylim(0,100)\n",
    "plt.xlim(20,100)"
   ]
  },
  {
   "cell_type": "code",
   "execution_count": 31,
   "id": "eb4c69c6",
   "metadata": {},
   "outputs": [
    {
     "data": {
      "text/plain": [
       "(-1.0, 25.0)"
      ]
     },
     "execution_count": 31,
     "metadata": {},
     "output_type": "execute_result"
    },
    {
     "data": {
      "image/png": "[encoded data removed]",
      "text/plain": [
       "<Figure size 1080x360 with 1 Axes>"
      ]
     },
     "metadata": {
      "needs_background": "light"
     },
     "output_type": "display_data"
    }
   ],
   "source": [
    "plt.figure(figsize=(15,5))\n",
    "plt.title(\"Port in String\",fontsize=20)\n",
    "sns.countplot(x='url_has_port_in_string',data=urldata,hue='label')\n",
    "plt.xlabel(\"Url has Port in String\",fontsize=18)\n",
    "plt.ylabel(\"Number Of URLs\",fontsize=18)\n",
    "plt.ylim(0,600)\n",
    "plt.xlim(-1,25)"
   ]
  },
  {
   "cell_type": "code",
   "execution_count": 32,
   "id": "d7a43cd4",
   "metadata": {},
   "outputs": [],
   "source": [
    "# plt.figure(figsize=(15,5))\n",
    "# plt.title(\"URL Shortening\",fontsize=20)\n",
    "# sns.countplot(x='short_url',data=urldata,hue='label')\n",
    "# plt.xlabel(\"URL shorteneing service used\",fontsize=18)\n",
    "# plt.ylabel(\"Number Of URLs\",fontsize=18)\n",
    "# plt.ylim(0,100000)\n",
    "# plt.xlim(-1,25)"
   ]
  },
  {
   "cell_type": "code",
   "execution_count": 33,
   "id": "a07cc7b2",
   "metadata": {},
   "outputs": [],
   "source": [
    "from sklearn.linear_model import LogisticRegression\n",
    "from sklearn.neighbors import KNeighborsClassifier\n",
    "from sklearn.model_selection import train_test_split\n",
    "from sklearn.metrics import accuracy_score"
   ]
  },
  {
   "cell_type": "code",
   "execution_count": 34,
   "id": "6db0a9c7",
   "metadata": {},
   "outputs": [],
   "source": [
    "from sklearn.linear_model import LinearRegression"
   ]
  },
  {
   "cell_type": "code",
   "execution_count": 35,
   "id": "b21690ea",
   "metadata": {},
   "outputs": [],
   "source": [
    "x = urldata[['url_length', 'hostname_length', 'tld_length', 'path_length', 'count@', 'count.', 'count-http', 'url_has_port_in_string', 'count-digits']]\n",
    "\n",
    "#Target Variable\n",
    "y = urldata['result']"
   ]
  },
  {
   "cell_type": "code",
   "execution_count": 36,
   "id": "f0dc7faa",
   "metadata": {},
   "outputs": [
    {
     "data": {
      "text/plain": [
       "(100176, 9)"
      ]
     },
     "execution_count": 36,
     "metadata": {},
     "output_type": "execute_result"
    }
   ],
   "source": [
    "x.shape"
   ]
  },
  {
   "cell_type": "code",
   "execution_count": 37,
   "id": "ce35ec4f",
   "metadata": {},
   "outputs": [
    {
     "data": {
      "text/plain": [
       "(100176,)"
      ]
     },
     "execution_count": 37,
     "metadata": {},
     "output_type": "execute_result"
    }
   ],
   "source": [
    "y.shape"
   ]
  },
  {
   "cell_type": "code",
   "execution_count": 38,
   "id": "991033b9",
   "metadata": {},
   "outputs": [],
   "source": [
    "#Splitting the data into Training and Testing\n",
    "x_train, x_test, y_train, y_test = train_test_split(x, y, train_size=0.7)"
   ]
  },
  {
   "cell_type": "code",
   "execution_count": 39,
   "id": "6a863876",
   "metadata": {},
   "outputs": [
    {
     "data": {
      "text/plain": [
       "0.7518384187934649"
      ]
     },
     "execution_count": 39,
     "metadata": {},
     "output_type": "execute_result"
    }
   ],
   "source": [
    "#Logistic Regression\n",
    "log_model=LogisticRegression(max_iter=100000)\n",
    "log_model.fit(x_train,y_train)\n",
    "\n",
    "log_predictions = log_model.predict(x_test)\n",
    "accuracy_score(y_test,log_predictions)"
   ]
  },
  {
   "cell_type": "code",
   "execution_count": 51,
   "id": "34d98ac2",
   "metadata": {},
   "outputs": [
    {
     "data": {
      "text/plain": [
       "0.9061657737996207"
      ]
     },
     "execution_count": 51,
     "metadata": {},
     "output_type": "execute_result"
    }
   ],
   "source": [
    "knn = KNeighborsClassifier()\n",
    "knn.fit(x_train, y_train)\n",
    "\n",
    "knn_predictions = knn.predict(x_test)\n",
    "accuracy_score(y_test, knn_predictions)"
   ]
  },
  {
   "cell_type": "code",
   "execution_count": null,
   "id": "9f0a2c7e",
   "metadata": {},
   "outputs": [],
   "source": []
  }
 ],
 "metadata": {
  "kernelspec": {
   "display_name": "Python 3 (ipykernel)",
   "language": "python",
   "name": "python3"
  },
  "language_info": {
   "codemirror_mode": {
    "name": "ipython",
    "version": 3
   },
   "file_extension": ".py",
   "mimetype": "text/x-python",
   "name": "python",
   "nbconvert_exporter": "python",
   "pygments_lexer": "ipython3",
   "version": "3.9.6"
  }
 },
 "nbformat": 4,
 "nbformat_minor": 5
}
